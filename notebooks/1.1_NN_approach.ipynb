{
 "metadata": {
  "accelerator": "GPU",
  "colab": {
   "provenance": []
  },
  "kernelspec": {
   "name": "python3",
   "display_name": "Python 3",
   "language": "python"
  },
  "language_info": {
   "name": "python",
   "version": "3.10.12",
   "mimetype": "text/x-python",
   "codemirror_mode": {
    "name": "ipython",
    "version": 3
   },
   "pygments_lexer": "ipython3",
   "nbconvert_exporter": "python",
   "file_extension": ".py"
  },
  "kaggle": {
   "accelerator": "nvidiaTeslaT4",
   "dataSources": [],
   "dockerImageVersionId": 30587,
   "isInternetEnabled": true,
   "language": "python",
   "sourceType": "notebook",
   "isGpuEnabled": true
  }
 },
 "nbformat_minor": 4,
 "nbformat": 4,
 "cells": [
  {
   "cell_type": "code",
   "source": [
    "from urllib.request import urlopen\n",
    "from io import BytesIO\n",
    "from zipfile import ZipFile\n",
    "\n",
    "\n",
    "def download_and_unzip(url, extract_to='.'):\n",
    "    http_response = urlopen(url)\n",
    "    zipfile = ZipFile(BytesIO(http_response.read()))\n",
    "    zipfile.extractall(path=extract_to)\n",
    "\n",
    "\n",
    "download_and_unzip(\"https://files.grouplens.org/datasets/movielens/ml-100k.zip\",\n",
    "                   extract_to='.')"
   ],
   "metadata": {
    "id": "lfAik8PvMZMl",
    "execution": {
     "iopub.status.busy": "2023-12-03T01:22:20.766680Z",
     "iopub.execute_input": "2023-12-03T01:22:20.767118Z",
     "iopub.status.idle": "2023-12-03T01:22:21.328056Z",
     "shell.execute_reply.started": "2023-12-03T01:22:20.767069Z",
     "shell.execute_reply": "2023-12-03T01:22:21.327255Z"
    },
    "trusted": true
   },
   "execution_count": 1,
   "outputs": []
  },
  {
   "cell_type": "markdown",
   "source": [
    "Next, let's import all of the modules that we'll use in this notebook."
   ],
   "metadata": {
    "id": "u_LPed5cuAEa"
   }
  },
  {
   "cell_type": "code",
   "source": [
    "# Standard library imports\n",
    "import random\n",
    "import time\n",
    "\n",
    "# Third-party imports\n",
    "import matplotlib.pyplot as plt\n",
    "import networkx as nx\n",
    "import numpy as np\n",
    "import pandas as pd\n",
    "pd.set_option('display.max_colwidth', None)\n",
    "\n",
    "import torch\n",
    "import torch.nn as nn\n",
    "import torch.nn.functional as F\n",
    "import torch.optim as optim\n",
    "\n",
    "from tqdm.notebook import tqdm\n",
    "from sklearn import preprocessing as pp\n",
    "from sklearn.model_selection import train_test_split\n",
    "import scipy.sparse as sp"
   ],
   "metadata": {
    "id": "Y9fonQcxt3do",
    "execution": {
     "iopub.status.busy": "2023-12-03T01:22:21.329500Z",
     "iopub.execute_input": "2023-12-03T01:22:21.329789Z",
     "iopub.status.idle": "2023-12-03T01:22:24.027245Z",
     "shell.execute_reply.started": "2023-12-03T01:22:21.329760Z",
     "shell.execute_reply": "2023-12-03T01:22:24.026149Z"
    },
    "trusted": true
   },
   "execution_count": 2,
   "outputs": [
    {
     "name": "stderr",
     "text": "/opt/conda/lib/python3.10/site-packages/scipy/__init__.py:146: UserWarning: A NumPy version >=1.16.5 and <1.23.0 is required for this version of SciPy (detected version 1.24.3\n  warnings.warn(f\"A NumPy version >={np_minversion} and <{np_maxversion}\"\n",
     "output_type": "stream"
    }
   ]
  },
  {
   "cell_type": "code",
   "source": [
    "def make_dfs():\n",
    "  columns_name=['user_id','item_id','rating','timestamp']\n",
    "  train_df = pd.read_csv(\"./ml-100k/ua.base\",sep=\"\\t\",names=columns_name)\n",
    "  test_df = pd.read_csv(\"./ml-100k/ua.test\",sep=\"\\t\",names=columns_name)\n",
    "\n",
    "  # df = df[df['rating']>=3]\n",
    "\n",
    "  # train, test = train_test_split(df.values, test_size=0.1, random_state=16)\n",
    "  # train_df = pd.DataFrame(train, columns=df.columns)\n",
    "  # test_df = pd.DataFrame(test, columns=df.columns)\n",
    "\n",
    "\n",
    "  return train_df, test_df"
   ],
   "metadata": {
    "id": "g0Nuptl1RATp",
    "execution": {
     "iopub.status.busy": "2023-12-03T01:22:24.029017Z",
     "iopub.execute_input": "2023-12-03T01:22:24.029654Z",
     "iopub.status.idle": "2023-12-03T01:22:24.037991Z",
     "shell.execute_reply.started": "2023-12-03T01:22:24.029614Z",
     "shell.execute_reply": "2023-12-03T01:22:24.036871Z"
    },
    "trusted": true
   },
   "execution_count": 3,
   "outputs": []
  },
  {
   "cell_type": "code",
   "source": [
    "def preproc(train_df, test_df):\n",
    "    film_columns = [\"item_id\", \"movie title\", \"release date\", \"video release date\",\n",
    "              \"IMDb URL\", \"unknown\", \"Action\", \"Adventure\", \"Animation\",\n",
    "              \"Children's\", \"Comedy\", \"Crime\", \"Documentary\", \"Drama\", \"Fantasy\",\n",
    "              \"Film-Noir\", \"Horror\", \"Musical\", \"Mystery\", \"Romance\", \"Sci-Fi\",\n",
    "              \"Thriller\", \"War\", \"Western\"]\n",
    "\n",
    "    films_df = pd.read_csv(\"./ml-100k/u.item\", sep=\"|\", names=film_columns, encoding='latin-1')\n",
    "    films_df.drop([\"movie title\", \"release date\", \"IMDb URL\", \"unknown\", \"video release date\"], axis = 1, inplace = True)\n",
    "\n",
    "    train_df = pd.merge(train_df, films_df, how='left', left_on='item_id', right_on='item_id')\n",
    "    test_df = pd.merge(test_df, films_df, how='left', left_on='item_id', right_on='item_id')\n",
    "\n",
    "    user_columns = [\"user_id\", \"age\", \"sex\", \"occupation\", \"zip_code\"]\n",
    "    user_df = pd.read_csv(\"./ml-100k/u.user\", sep=\"|\", names=user_columns, encoding='latin-1')\n",
    "    user_df[\"sex\"] = pp.LabelEncoder().fit_transform(user_df[\"sex\"])\n",
    "    occup_df = pd.read_csv(\"./ml-100k/u.occupation\", sep=\"\\t\", names=[\"jobs\"])\n",
    "    le = pp.LabelEncoder()\n",
    "    le.fit(occup_df[\"jobs\"])\n",
    "    user_df[\"occupation\"] = le.transform(user_df[\"occupation\"])\n",
    "    user_df.drop([\"zip_code\"], axis = 1, inplace = True)\n",
    "\n",
    "    train_df = pd.merge(train_df, user_df, how='left', left_on='user_id', right_on='user_id')\n",
    "    test_df = pd.merge(test_df, user_df, how='left', left_on='user_id', right_on='user_id')\n",
    "    \n",
    "    \n",
    "    train_df[\"rating\"]  = train_df[\"rating\"] - 1\n",
    "    train_df[\"age\"] = train_df[\"age\"] / user_df[\"age\"].abs().max()\n",
    "    \n",
    "    encoder = pp.OneHotEncoder(sparse_output=False)\n",
    "    encoder.fit(train_df[[\"occupation\"]])\n",
    "    new_feat = encoder.transform(train_df[[\"occupation\"]])\n",
    "    new_cols = pd.DataFrame(new_feat, columns=encoder.get_feature_names_out([\"occupation\"]))\n",
    "    train_df = pd.concat([train_df, new_cols], axis=1)    \n",
    "    train_df.drop(\"occupation\", axis=1, inplace=True)\n",
    "    \n",
    "    new_feat = encoder.transform(test_df[[\"occupation\"]])\n",
    "    new_cols = pd.DataFrame(new_feat, columns=encoder.get_feature_names_out([\"occupation\"]))\n",
    "    test_df = pd.concat([test_df, new_cols], axis=1)    \n",
    "    test_df.drop(\"occupation\", axis=1, inplace=True)\n",
    "    \n",
    "    test_df[\"rating\"]  = test_df[\"rating\"] - 1\n",
    "    test_df[\"age\"] = test_df[\"age\"] / user_df[\"age\"].abs().max()\n",
    "\n",
    "    train_df.drop([\"item_id\", \"user_id\", \"timestamp\"], axis = 1, inplace = True)\n",
    "    train_y = train_df[\"rating\"].values\n",
    "    train_x = train_df.drop('rating', axis=1).values\n",
    "\n",
    "    test_df.drop([\"item_id\", \"user_id\", \"timestamp\"], axis = 1, inplace = True)\n",
    "    test_y = test_df[\"rating\"].values\n",
    "    test_x = test_df.drop('rating', axis=1).values\n",
    "    \n",
    "#     return train_df, test_df\n",
    "\n",
    "    return train_x, train_y, test_x, test_y\n"
   ],
   "metadata": {
    "id": "diJHiO6nSImi",
    "execution": {
     "iopub.status.busy": "2023-12-03T02:22:49.517893Z",
     "iopub.execute_input": "2023-12-03T02:22:49.518279Z",
     "iopub.status.idle": "2023-12-03T02:22:49.534641Z",
     "shell.execute_reply.started": "2023-12-03T02:22:49.518247Z",
     "shell.execute_reply": "2023-12-03T02:22:49.533700Z"
    },
    "trusted": true
   },
   "execution_count": 71,
   "outputs": []
  },
  {
   "cell_type": "code",
   "source": [
    "train_df, test_df = make_dfs()\n",
    "train_x, train_y, test_x, test_y = preproc(train_df, test_df)"
   ],
   "metadata": {
    "id": "3Kd3_Al5ZaJM",
    "execution": {
     "iopub.status.busy": "2023-12-03T02:22:50.559764Z",
     "iopub.execute_input": "2023-12-03T02:22:50.560619Z",
     "iopub.status.idle": "2023-12-03T02:22:50.726565Z",
     "shell.execute_reply.started": "2023-12-03T02:22:50.560581Z",
     "shell.execute_reply": "2023-12-03T02:22:50.725652Z"
    },
    "trusted": true
   },
   "execution_count": 73,
   "outputs": [
    {
     "name": "stderr",
     "text": "/opt/conda/lib/python3.10/site-packages/sklearn/utils/validation.py:605: FutureWarning: is_sparse is deprecated and will be removed in a future version. Check `isinstance(dtype, pd.SparseDtype)` instead.\n  if is_sparse(pd_dtype):\n/opt/conda/lib/python3.10/site-packages/sklearn/utils/validation.py:614: FutureWarning: is_sparse is deprecated and will be removed in a future version. Check `isinstance(dtype, pd.SparseDtype)` instead.\n  if is_sparse(pd_dtype) or not is_extension_array_dtype(pd_dtype):\n/opt/conda/lib/python3.10/site-packages/sklearn/utils/validation.py:605: FutureWarning: is_sparse is deprecated and will be removed in a future version. Check `isinstance(dtype, pd.SparseDtype)` instead.\n  if is_sparse(pd_dtype):\n/opt/conda/lib/python3.10/site-packages/sklearn/utils/validation.py:614: FutureWarning: is_sparse is deprecated and will be removed in a future version. Check `isinstance(dtype, pd.SparseDtype)` instead.\n  if is_sparse(pd_dtype) or not is_extension_array_dtype(pd_dtype):\n/opt/conda/lib/python3.10/site-packages/sklearn/utils/validation.py:605: FutureWarning: is_sparse is deprecated and will be removed in a future version. Check `isinstance(dtype, pd.SparseDtype)` instead.\n  if is_sparse(pd_dtype):\n/opt/conda/lib/python3.10/site-packages/sklearn/utils/validation.py:614: FutureWarning: is_sparse is deprecated and will be removed in a future version. Check `isinstance(dtype, pd.SparseDtype)` instead.\n  if is_sparse(pd_dtype) or not is_extension_array_dtype(pd_dtype):\n/opt/conda/lib/python3.10/site-packages/sklearn/utils/validation.py:605: FutureWarning: is_sparse is deprecated and will be removed in a future version. Check `isinstance(dtype, pd.SparseDtype)` instead.\n  if is_sparse(pd_dtype):\n/opt/conda/lib/python3.10/site-packages/sklearn/utils/validation.py:614: FutureWarning: is_sparse is deprecated and will be removed in a future version. Check `isinstance(dtype, pd.SparseDtype)` instead.\n  if is_sparse(pd_dtype) or not is_extension_array_dtype(pd_dtype):\n/opt/conda/lib/python3.10/site-packages/sklearn/utils/validation.py:605: FutureWarning: is_sparse is deprecated and will be removed in a future version. Check `isinstance(dtype, pd.SparseDtype)` instead.\n  if is_sparse(pd_dtype):\n/opt/conda/lib/python3.10/site-packages/sklearn/utils/validation.py:614: FutureWarning: is_sparse is deprecated and will be removed in a future version. Check `isinstance(dtype, pd.SparseDtype)` instead.\n  if is_sparse(pd_dtype) or not is_extension_array_dtype(pd_dtype):\n/opt/conda/lib/python3.10/site-packages/sklearn/utils/validation.py:605: FutureWarning: is_sparse is deprecated and will be removed in a future version. Check `isinstance(dtype, pd.SparseDtype)` instead.\n  if is_sparse(pd_dtype):\n/opt/conda/lib/python3.10/site-packages/sklearn/utils/validation.py:614: FutureWarning: is_sparse is deprecated and will be removed in a future version. Check `isinstance(dtype, pd.SparseDtype)` instead.\n  if is_sparse(pd_dtype) or not is_extension_array_dtype(pd_dtype):\n",
     "output_type": "stream"
    }
   ]
  },
  {
   "cell_type": "code",
   "source": [
    "class LensDataset(torch.utils.data.Dataset):\n",
    "    def __init__(self, x, y):\n",
    "      self.x = x\n",
    "      self.y = y\n",
    "\n",
    "    def __getitem__(self, index):\n",
    "      features = self.x[index]\n",
    "      rating = self.y[index]\n",
    "\n",
    "      features = torch.tensor(features, dtype=torch.float32)\n",
    "      rating = torch.tensor(rating, dtype=torch.int64)\n",
    "      return (features, rating)\n",
    "\n",
    "    def __len__(self):\n",
    "        return len(self.y)"
   ],
   "metadata": {
    "id": "1DIOpiUn7DHa",
    "execution": {
     "iopub.status.busy": "2023-12-03T02:22:51.304850Z",
     "iopub.execute_input": "2023-12-03T02:22:51.305475Z",
     "iopub.status.idle": "2023-12-03T02:22:51.311946Z",
     "shell.execute_reply.started": "2023-12-03T02:22:51.305425Z",
     "shell.execute_reply": "2023-12-03T02:22:51.311043Z"
    },
    "trusted": true
   },
   "execution_count": 74,
   "outputs": []
  },
  {
   "cell_type": "code",
   "source": [
    "train_dataset = LensDataset(train_x, train_y)\n",
    "test_dataset = LensDataset(test_x, test_y)"
   ],
   "metadata": {
    "id": "5Pv2XOP_73tj",
    "execution": {
     "iopub.status.busy": "2023-12-03T02:22:52.288956Z",
     "iopub.execute_input": "2023-12-03T02:22:52.289595Z",
     "iopub.status.idle": "2023-12-03T02:22:52.294447Z",
     "shell.execute_reply.started": "2023-12-03T02:22:52.289553Z",
     "shell.execute_reply": "2023-12-03T02:22:52.293499Z"
    },
    "trusted": true
   },
   "execution_count": 75,
   "outputs": []
  },
  {
   "cell_type": "code",
   "source": [
    "batch_size = 128\n",
    "\n",
    "train_loader = torch.utils.data.DataLoader(train_dataset,\n",
    "                                           batch_size=batch_size, shuffle=True)\n",
    "\n",
    "test_loader = torch.utils.data.DataLoader(test_dataset,\n",
    "                                         batch_size=batch_size, shuffle=False)\n",
    "loaders = {\n",
    "    'train' : train_loader,\n",
    "\n",
    "    'test'  : test_loader,\n",
    "}\n",
    "\n",
    "batch = next(iter(train_loader))\n",
    "\n",
    "print(batch[0].shape, batch[1].shape) # Example of data shapes"
   ],
   "metadata": {
    "id": "e1THFBkF9CfG",
    "outputId": "0b8d1a3a-c222-484b-e86c-e26b1f7f7bb7",
    "execution": {
     "iopub.status.busy": "2023-12-03T02:22:52.978327Z",
     "iopub.execute_input": "2023-12-03T02:22:52.978685Z",
     "iopub.status.idle": "2023-12-03T02:22:52.997167Z",
     "shell.execute_reply.started": "2023-12-03T02:22:52.978654Z",
     "shell.execute_reply": "2023-12-03T02:22:52.996324Z"
    },
    "trusted": true
   },
   "execution_count": 76,
   "outputs": [
    {
     "name": "stdout",
     "text": "tensor([1.0000, 0.0000, 0.0000, 0.0000, 0.0000, 0.0000, 0.0000, 0.0000, 0.0000,\n        0.0000, 0.0000, 0.0000, 0.0000, 0.0000, 0.0000, 1.0000, 0.0000, 0.0000,\n        0.2603, 1.0000, 0.0000, 0.0000, 0.0000, 0.0000, 0.0000, 0.0000, 0.0000,\n        0.0000, 0.0000, 0.0000, 0.0000, 0.0000, 0.0000, 0.0000, 0.0000, 0.0000,\n        0.0000, 0.0000, 1.0000, 0.0000, 0.0000]) torch.Size([128])\n",
     "output_type": "stream"
    }
   ]
  },
  {
   "cell_type": "code",
   "source": [
    "class Net(nn.Module):\n",
    "    def __init__(self, inp_size, out_size):\n",
    "        super(Net, self).__init__()\n",
    "\n",
    "        self.linear_layers = nn. Sequential(\n",
    "            nn.Linear(inp_size, 1024, bias=True),\n",
    "            nn.ReLU(),\n",
    "            nn.Linear(1024, 4096, bias=True),\n",
    "            nn.ReLU(),\n",
    "            nn.Linear(4096, 8192, bias=True),\n",
    "            nn.ReLU(),\n",
    "            nn.Linear(8192, 4096, bias=True),\n",
    "            nn.ReLU(),\n",
    "            nn.Linear(4096, 256, bias=True),\n",
    "            nn.ReLU(),\n",
    "            nn.Linear(256, out_size, bias=True),\n",
    "            nn.Softmax(),\n",
    "        )\n",
    "\n",
    "\n",
    "    def forward(self, x):\n",
    "        out = self.linear_layers(x)\n",
    "        return out"
   ],
   "metadata": {
    "id": "jFdQw0mg-PFA",
    "execution": {
     "iopub.status.busy": "2023-12-03T02:22:53.897817Z",
     "iopub.execute_input": "2023-12-03T02:22:53.898187Z",
     "iopub.status.idle": "2023-12-03T02:22:53.906016Z",
     "shell.execute_reply.started": "2023-12-03T02:22:53.898156Z",
     "shell.execute_reply": "2023-12-03T02:22:53.904987Z"
    },
    "trusted": true
   },
   "execution_count": 77,
   "outputs": []
  },
  {
   "cell_type": "code",
   "source": [
    "from torch.optim import lr_scheduler\n",
    "import copy\n",
    "device = torch.device(\"cuda:0\" if torch.cuda.is_available() else \"cpu\")\n",
    "\n",
    "inp_size = 41\n",
    "out_size=5\n",
    "num_epochs = 40\n",
    "\n",
    "model = Net(inp_size, out_size).to(device)\n",
    "\n",
    "criterion = nn.CrossEntropyLoss()\n",
    "\n",
    "optimizer = optim.Adam(model.parameters(), lr = 0.00005)\n",
    "\n",
    "best_model_wts = copy.deepcopy(model.state_dict()) # Best weights\n",
    "best_loss = 10**10\n",
    "\n",
    "model"
   ],
   "metadata": {
    "id": "4OPoFcBA_OmH",
    "outputId": "64de2ebd-67ff-4699-e702-d98a32910328",
    "execution": {
     "iopub.status.busy": "2023-12-03T02:23:11.823647Z",
     "iopub.execute_input": "2023-12-03T02:23:11.824522Z",
     "iopub.status.idle": "2023-12-03T02:23:12.502733Z",
     "shell.execute_reply.started": "2023-12-03T02:23:11.824486Z",
     "shell.execute_reply": "2023-12-03T02:23:12.501761Z"
    },
    "trusted": true
   },
   "execution_count": 81,
   "outputs": [
    {
     "execution_count": 81,
     "output_type": "execute_result",
     "data": {
      "text/plain": "Net(\n  (linear_layers): Sequential(\n    (0): Linear(in_features=41, out_features=1024, bias=True)\n    (1): ReLU()\n    (2): Linear(in_features=1024, out_features=4096, bias=True)\n    (3): ReLU()\n    (4): Linear(in_features=4096, out_features=8192, bias=True)\n    (5): ReLU()\n    (6): Linear(in_features=8192, out_features=4096, bias=True)\n    (7): ReLU()\n    (8): Linear(in_features=4096, out_features=256, bias=True)\n    (9): ReLU()\n    (10): Linear(in_features=256, out_features=5, bias=True)\n    (11): Softmax(dim=None)\n  )\n)"
     },
     "metadata": {}
    }
   ]
  },
  {
   "cell_type": "code",
   "source": [
    "from time import time\n",
    "from tqdm import tqdm\n",
    "# Train and test functions\n",
    "def train(model, device, criterion, optimizer, epoch):\n",
    "    model.train()\n",
    "    epoch_loss = 0\n",
    "    start_time = time()\n",
    "    correct = 0\n",
    "    iteration = 0\n",
    "\n",
    "    bar = tqdm(loaders['train'])\n",
    "    for data, target in bar:\n",
    "        data, target = data.to(device), target.to(device)\n",
    "        optimizer.zero_grad()\n",
    "\n",
    "        output = model(data)\n",
    "#         print(output)\n",
    "        loss = criterion(output, target)\n",
    "        \n",
    "        loss.backward()\n",
    "        optimizer.step()\n",
    "\n",
    "        epoch_loss += loss.item()\n",
    "        iteration += 1\n",
    "        bar.set_postfix({\"Loss\": format(epoch_loss/iteration, '.6f')})\n",
    "\n",
    "    print(f'Train Epoch: {epoch}, elapsed time:{time()-start_time:.2f}s, Avg train Loss: {epoch_loss/iteration}')\n",
    "    return epoch_loss / iteration\n",
    "\n",
    "\n",
    "def test(model, device, criterion):\n",
    "    model.eval()\n",
    "    test_loss = 0\n",
    "    correct = 0\n",
    "    total = 0\n",
    "    iters = 0\n",
    "    with torch.no_grad():\n",
    "        for data, target in loaders['test']:\n",
    "            iters += 1\n",
    "            data, target = data.to(device), target.to(device)\n",
    "            output = model(data)\n",
    "            pred = torch.argmax(output, dim=1)\n",
    "            if correct == 0:\n",
    "                print(pred, target)\n",
    "            correct += sum(pred.eq(target))\n",
    "            total += len(pred)\n",
    "            test_loss += criterion(output, target).item()  # sum up batch loss\n",
    "\n",
    "    test_loss /= iters\n",
    "    print(f'Avg test Loss: {test_loss}, Avg Accuracy: {correct/total}')\n",
    "    return test_loss"
   ],
   "metadata": {
    "id": "i0z701Bx_sbr",
    "execution": {
     "iopub.status.busy": "2023-12-03T02:23:12.504287Z",
     "iopub.execute_input": "2023-12-03T02:23:12.504584Z",
     "iopub.status.idle": "2023-12-03T02:23:12.516248Z",
     "shell.execute_reply.started": "2023-12-03T02:23:12.504557Z",
     "shell.execute_reply": "2023-12-03T02:23:12.515288Z"
    },
    "trusted": true
   },
   "execution_count": 82,
   "outputs": []
  },
  {
   "cell_type": "code",
   "source": [
    "for _ in range(num_epochs):\n",
    "    train_loss = train(model, device, criterion, optimizer, _)\n",
    "    test_loss = test(model, device, criterion)\n",
    "\n",
    "    if test_loss < best_loss: # Keep the best weights\n",
    "        best_loss = test_loss\n",
    "        best_model_wts = copy.deepcopy(model.state_dict())"
   ],
   "metadata": {
    "id": "IgQqLU09Atu6",
    "outputId": "74ae3ef8-c926-4b71-e45f-eab3aa1709eb",
    "execution": {
     "iopub.status.busy": "2023-12-03T02:23:12.728377Z",
     "iopub.execute_input": "2023-12-03T02:23:12.728714Z",
     "iopub.status.idle": "2023-12-03T02:42:47.543057Z",
     "shell.execute_reply.started": "2023-12-03T02:23:12.728688Z",
     "shell.execute_reply": "2023-12-03T02:42:47.542154Z"
    },
    "trusted": true
   },
   "execution_count": 83,
   "outputs": [
    {
     "name": "stderr",
     "text": "  0%|          | 0/708 [00:00<?, ?it/s]/opt/conda/lib/python3.10/site-packages/torch/nn/modules/container.py:217: UserWarning: Implicit dimension choice for softmax has been deprecated. Change the call to include dim=X as an argument.\n  input = module(input)\n100%|██████████| 708/708 [00:28<00:00, 24.56it/s, Loss=1.525078]\n",
     "output_type": "stream"
    },
    {
     "name": "stdout",
     "text": "Train Epoch: 0, elapsed time:28.83s, Avg train Loss: 1.5250783025544916\ntensor([3, 3, 3, 2, 3, 3, 3, 3, 3, 3, 2, 4, 2, 3, 3, 2, 3, 3, 3, 2, 3, 2, 2, 3,\n        2, 3, 3, 2, 3, 2, 3, 3, 3, 3, 2, 3, 3, 3, 3, 3, 2, 2, 2, 3, 3, 2, 2, 2,\n        2, 3, 3, 3, 3, 3, 3, 3, 2, 3, 3, 3, 3, 2, 3, 3, 3, 3, 3, 2, 3, 3, 3, 4,\n        3, 3, 3, 2, 2, 3, 3, 3, 3, 3, 3, 3, 3, 3, 3, 3, 3, 3, 3, 3, 3, 3, 3, 3,\n        3, 3, 3, 3, 3, 3, 2, 3, 2, 3, 3, 2, 2, 3, 3, 3, 3, 3, 3, 4, 3, 2, 3, 3,\n        3, 3, 3, 3, 3, 3, 3, 3], device='cuda:0')\nAvg test Loss: 1.5180680977331626, Avg Accuracy: 0.3492046594619751\n",
     "output_type": "stream"
    },
    {
     "name": "stderr",
     "text": "100%|██████████| 708/708 [00:28<00:00, 24.57it/s, Loss=1.515797]\n",
     "output_type": "stream"
    },
    {
     "name": "stdout",
     "text": "Train Epoch: 1, elapsed time:28.81s, Avg train Loss: 1.5157972774599906\ntensor([3, 3, 3, 2, 3, 3, 3, 3, 3, 3, 2, 4, 2, 3, 2, 2, 3, 3, 3, 2, 3, 2, 2, 3,\n        2, 3, 2, 2, 3, 2, 4, 3, 3, 3, 3, 3, 3, 3, 3, 3, 3, 2, 3, 3, 2, 2, 2, 2,\n        2, 3, 3, 3, 3, 3, 3, 3, 3, 3, 3, 3, 3, 2, 3, 3, 2, 3, 3, 2, 3, 3, 3, 4,\n        2, 3, 3, 2, 2, 4, 3, 2, 3, 3, 3, 3, 3, 3, 3, 3, 3, 3, 3, 3, 3, 3, 3, 3,\n        3, 3, 3, 3, 3, 2, 2, 2, 2, 3, 3, 2, 2, 3, 2, 3, 3, 3, 3, 4, 2, 2, 4, 3,\n        3, 3, 3, 3, 3, 3, 3, 3], device='cuda:0')\nAvg test Loss: 1.5137723426561098, Avg Accuracy: 0.35079532861709595\n",
     "output_type": "stream"
    },
    {
     "name": "stderr",
     "text": "100%|██████████| 708/708 [00:28<00:00, 24.61it/s, Loss=1.511222]\n",
     "output_type": "stream"
    },
    {
     "name": "stdout",
     "text": "Train Epoch: 2, elapsed time:28.77s, Avg train Loss: 1.5112220052271912\ntensor([3, 3, 3, 2, 3, 3, 3, 4, 3, 2, 2, 4, 2, 3, 2, 2, 3, 3, 3, 2, 3, 2, 2, 3,\n        2, 3, 2, 2, 3, 3, 4, 3, 3, 3, 2, 3, 3, 3, 3, 3, 3, 2, 3, 3, 2, 2, 2, 2,\n        2, 3, 3, 3, 4, 3, 3, 3, 2, 4, 3, 3, 3, 2, 3, 3, 2, 3, 3, 2, 2, 3, 4, 4,\n        2, 4, 3, 2, 2, 4, 3, 2, 3, 4, 3, 3, 3, 3, 3, 3, 3, 4, 3, 3, 3, 4, 3, 3,\n        3, 4, 3, 4, 3, 2, 2, 2, 2, 3, 2, 2, 2, 3, 2, 3, 3, 3, 3, 4, 2, 2, 4, 3,\n        3, 3, 2, 3, 3, 3, 3, 4], device='cuda:0')\nAvg test Loss: 1.5117452482919436, Avg Accuracy: 0.3529162108898163\n",
     "output_type": "stream"
    },
    {
     "name": "stderr",
     "text": "100%|██████████| 708/708 [00:28<00:00, 24.61it/s, Loss=1.508713]\n",
     "output_type": "stream"
    },
    {
     "name": "stdout",
     "text": "Train Epoch: 3, elapsed time:28.78s, Avg train Loss: 1.5087130810581357\ntensor([3, 3, 3, 3, 3, 3, 3, 3, 3, 3, 2, 4, 2, 3, 3, 2, 3, 3, 3, 2, 3, 2, 3, 3,\n        2, 3, 2, 2, 3, 3, 3, 3, 3, 3, 3, 3, 3, 3, 3, 3, 3, 2, 3, 3, 2, 2, 2, 2,\n        2, 3, 3, 3, 3, 3, 3, 3, 3, 3, 3, 3, 3, 2, 3, 3, 2, 3, 3, 2, 3, 3, 3, 4,\n        3, 3, 3, 2, 2, 3, 3, 3, 3, 3, 3, 3, 3, 3, 3, 3, 3, 3, 3, 3, 3, 3, 3, 3,\n        3, 3, 3, 3, 2, 2, 3, 2, 2, 3, 3, 2, 3, 3, 2, 3, 3, 3, 3, 4, 3, 3, 3, 3,\n        3, 3, 3, 3, 3, 3, 3, 3], device='cuda:0')\nAvg test Loss: 1.5104575253821708, Avg Accuracy: 0.3582184314727783\n",
     "output_type": "stream"
    },
    {
     "name": "stderr",
     "text": "100%|██████████| 708/708 [00:28<00:00, 24.61it/s, Loss=1.505978]\n",
     "output_type": "stream"
    },
    {
     "name": "stdout",
     "text": "Train Epoch: 4, elapsed time:28.78s, Avg train Loss: 1.5059780446486284\ntensor([3, 3, 3, 2, 2, 3, 3, 4, 2, 2, 2, 3, 2, 3, 2, 2, 3, 3, 3, 2, 2, 2, 2, 2,\n        2, 3, 2, 2, 2, 2, 3, 3, 2, 2, 2, 3, 2, 3, 3, 3, 3, 2, 3, 3, 2, 2, 2, 2,\n        2, 3, 3, 3, 4, 3, 3, 3, 2, 4, 3, 3, 3, 2, 3, 3, 2, 3, 3, 2, 2, 2, 3, 4,\n        2, 4, 3, 2, 2, 4, 2, 2, 3, 3, 3, 3, 3, 2, 3, 3, 3, 3, 4, 3, 4, 4, 3, 3,\n        3, 4, 4, 4, 2, 2, 2, 2, 2, 3, 3, 2, 2, 3, 2, 3, 3, 3, 3, 4, 2, 2, 4, 3,\n        3, 3, 3, 3, 3, 3, 3, 4], device='cuda:0')\nAvg test Loss: 1.5110001080744975, Avg Accuracy: 0.3549310564994812\n",
     "output_type": "stream"
    },
    {
     "name": "stderr",
     "text": "100%|██████████| 708/708 [00:28<00:00, 24.55it/s, Loss=1.503991]\n",
     "output_type": "stream"
    },
    {
     "name": "stdout",
     "text": "Train Epoch: 5, elapsed time:28.85s, Avg train Loss: 1.5039909700889371\ntensor([3, 3, 3, 2, 3, 3, 3, 3, 3, 2, 2, 4, 2, 3, 2, 2, 3, 3, 3, 2, 2, 2, 2, 2,\n        2, 3, 2, 2, 3, 3, 4, 3, 2, 3, 3, 3, 3, 3, 3, 3, 3, 2, 3, 3, 2, 2, 2, 2,\n        2, 3, 3, 3, 4, 3, 3, 3, 3, 4, 3, 3, 3, 2, 3, 3, 2, 3, 3, 2, 3, 2, 3, 4,\n        2, 4, 3, 2, 2, 4, 3, 2, 3, 3, 3, 3, 3, 3, 3, 3, 3, 3, 3, 3, 3, 4, 3, 3,\n        3, 4, 3, 4, 2, 2, 2, 2, 2, 3, 2, 2, 2, 3, 2, 3, 3, 4, 3, 4, 2, 2, 4, 3,\n        3, 3, 3, 3, 3, 3, 3, 3], device='cuda:0')\nAvg test Loss: 1.5089912946159776, Avg Accuracy: 0.36489924788475037\n",
     "output_type": "stream"
    },
    {
     "name": "stderr",
     "text": "100%|██████████| 708/708 [00:28<00:00, 24.58it/s, Loss=1.501919]\n",
     "output_type": "stream"
    },
    {
     "name": "stdout",
     "text": "Train Epoch: 6, elapsed time:28.81s, Avg train Loss: 1.5019188562018724\ntensor([3, 3, 3, 2, 3, 3, 3, 4, 3, 2, 2, 2, 2, 3, 2, 2, 3, 3, 3, 2, 2, 2, 2, 2,\n        2, 3, 2, 2, 3, 2, 3, 3, 2, 3, 2, 3, 3, 3, 3, 3, 4, 2, 3, 3, 2, 2, 2, 2,\n        2, 3, 3, 3, 4, 3, 3, 3, 2, 3, 3, 3, 3, 2, 3, 3, 2, 3, 3, 2, 3, 2, 3, 4,\n        2, 4, 3, 2, 2, 4, 2, 2, 3, 4, 3, 3, 3, 3, 3, 4, 3, 3, 3, 3, 4, 4, 3, 3,\n        3, 4, 3, 4, 2, 2, 2, 2, 2, 3, 2, 2, 2, 3, 2, 2, 3, 4, 3, 4, 2, 2, 4, 3,\n        3, 3, 3, 3, 3, 3, 3, 3], device='cuda:0')\nAvg test Loss: 1.5085331990912154, Avg Accuracy: 0.36299043893814087\n",
     "output_type": "stream"
    },
    {
     "name": "stderr",
     "text": "100%|██████████| 708/708 [00:28<00:00, 24.57it/s, Loss=1.498842]\n",
     "output_type": "stream"
    },
    {
     "name": "stdout",
     "text": "Train Epoch: 7, elapsed time:28.82s, Avg train Loss: 1.498841812718386\ntensor([3, 3, 3, 2, 2, 3, 3, 3, 3, 2, 2, 3, 2, 3, 2, 2, 3, 3, 3, 2, 2, 2, 2, 2,\n        2, 3, 2, 2, 3, 2, 3, 3, 2, 3, 3, 3, 3, 3, 3, 3, 3, 2, 2, 2, 2, 2, 2, 2,\n        2, 3, 3, 3, 3, 3, 3, 3, 3, 3, 3, 3, 3, 2, 3, 3, 2, 3, 3, 2, 3, 2, 3, 3,\n        2, 3, 3, 2, 2, 3, 2, 2, 3, 3, 3, 3, 3, 3, 3, 3, 3, 3, 3, 3, 3, 3, 3, 3,\n        3, 3, 3, 3, 2, 2, 2, 2, 2, 3, 2, 2, 2, 3, 2, 2, 3, 3, 3, 3, 2, 2, 3, 3,\n        3, 3, 3, 3, 3, 3, 3, 3], device='cuda:0')\nAvg test Loss: 1.5143085863139178, Avg Accuracy: 0.35768821835517883\n",
     "output_type": "stream"
    },
    {
     "name": "stderr",
     "text": "100%|██████████| 708/708 [00:28<00:00, 24.54it/s, Loss=1.495024]\n",
     "output_type": "stream"
    },
    {
     "name": "stdout",
     "text": "Train Epoch: 8, elapsed time:28.86s, Avg train Loss: 1.4950241793346943\ntensor([3, 2, 3, 2, 2, 3, 3, 4, 2, 2, 2, 2, 2, 3, 2, 2, 3, 3, 3, 2, 2, 2, 2, 2,\n        2, 3, 2, 2, 3, 3, 3, 3, 2, 2, 2, 3, 2, 3, 3, 3, 4, 2, 2, 3, 2, 2, 2, 2,\n        2, 3, 3, 3, 4, 3, 3, 3, 3, 4, 3, 3, 3, 2, 3, 3, 2, 3, 3, 2, 2, 2, 3, 4,\n        2, 4, 3, 2, 2, 4, 2, 2, 3, 4, 3, 3, 3, 3, 3, 4, 3, 3, 4, 3, 4, 4, 3, 3,\n        3, 4, 4, 4, 2, 2, 2, 2, 2, 4, 2, 2, 2, 3, 2, 2, 3, 4, 3, 3, 2, 2, 4, 3,\n        3, 3, 2, 3, 3, 3, 3, 3], device='cuda:0')\nAvg test Loss: 1.5109197046305682, Avg Accuracy: 0.3573700785636902\n",
     "output_type": "stream"
    },
    {
     "name": "stderr",
     "text": "100%|██████████| 708/708 [00:28<00:00, 24.62it/s, Loss=1.492170]\n",
     "output_type": "stream"
    },
    {
     "name": "stdout",
     "text": "Train Epoch: 9, elapsed time:28.76s, Avg train Loss: 1.4921699509782307\ntensor([3, 3, 3, 2, 2, 3, 3, 4, 2, 3, 2, 2, 2, 3, 2, 2, 3, 3, 3, 2, 2, 2, 2, 2,\n        2, 3, 2, 2, 3, 3, 3, 3, 2, 3, 2, 3, 2, 3, 3, 3, 3, 3, 3, 3, 2, 2, 2, 2,\n        2, 3, 3, 3, 4, 3, 3, 3, 3, 3, 3, 3, 3, 2, 3, 3, 2, 3, 3, 2, 2, 2, 3, 4,\n        3, 4, 3, 2, 2, 4, 2, 3, 3, 3, 3, 3, 3, 3, 3, 3, 3, 2, 3, 3, 4, 4, 3, 3,\n        3, 4, 4, 3, 2, 2, 2, 2, 2, 3, 2, 2, 2, 3, 2, 3, 3, 4, 3, 3, 2, 2, 3, 3,\n        3, 3, 2, 3, 3, 3, 3, 3], device='cuda:0')\nAvg test Loss: 1.5105859540604256, Avg Accuracy: 0.36362671852111816\n",
     "output_type": "stream"
    },
    {
     "name": "stderr",
     "text": "100%|██████████| 708/708 [00:28<00:00, 24.59it/s, Loss=1.490611]\n",
     "output_type": "stream"
    },
    {
     "name": "stdout",
     "text": "Train Epoch: 10, elapsed time:28.80s, Avg train Loss: 1.490610803082838\ntensor([3, 3, 3, 2, 2, 3, 3, 4, 3, 2, 2, 3, 2, 3, 2, 2, 3, 3, 3, 2, 2, 2, 2, 2,\n        2, 3, 2, 2, 3, 2, 4, 3, 2, 3, 2, 3, 3, 3, 3, 3, 3, 3, 3, 3, 2, 2, 2, 2,\n        2, 3, 3, 3, 4, 3, 3, 3, 3, 3, 3, 3, 3, 2, 3, 3, 2, 3, 3, 2, 3, 2, 3, 4,\n        2, 4, 3, 2, 2, 4, 2, 2, 3, 4, 3, 3, 3, 3, 3, 3, 3, 3, 3, 3, 4, 4, 3, 3,\n        3, 4, 4, 4, 2, 2, 3, 2, 2, 4, 3, 2, 3, 3, 2, 2, 3, 4, 4, 4, 3, 2, 4, 3,\n        3, 3, 2, 3, 3, 3, 3, 3], device='cuda:0')\nAvg test Loss: 1.5092847605009336, Avg Accuracy: 0.3632025420665741\n",
     "output_type": "stream"
    },
    {
     "name": "stderr",
     "text": "100%|██████████| 708/708 [00:28<00:00, 24.56it/s, Loss=1.488860]\n",
     "output_type": "stream"
    },
    {
     "name": "stdout",
     "text": "Train Epoch: 11, elapsed time:28.83s, Avg train Loss: 1.4888598954273482\ntensor([3, 3, 3, 2, 2, 3, 3, 4, 3, 3, 2, 3, 2, 3, 2, 2, 3, 3, 3, 2, 2, 2, 2, 2,\n        2, 3, 2, 2, 3, 3, 4, 3, 2, 3, 3, 3, 3, 3, 3, 3, 3, 2, 3, 3, 2, 2, 2, 2,\n        2, 3, 3, 3, 4, 3, 3, 3, 3, 4, 3, 3, 3, 2, 3, 3, 2, 3, 3, 2, 3, 2, 3, 4,\n        3, 4, 3, 2, 2, 4, 2, 3, 3, 4, 3, 3, 3, 3, 3, 4, 3, 3, 3, 3, 4, 4, 3, 3,\n        3, 4, 4, 4, 2, 2, 2, 2, 2, 4, 3, 2, 2, 3, 2, 3, 4, 4, 4, 4, 3, 2, 4, 3,\n        3, 3, 2, 3, 3, 3, 3, 3], device='cuda:0')\nAvg test Loss: 1.5099686013685691, Avg Accuracy: 0.36224812269210815\n",
     "output_type": "stream"
    },
    {
     "name": "stderr",
     "text": "100%|██████████| 708/708 [00:28<00:00, 24.56it/s, Loss=1.487229]\n",
     "output_type": "stream"
    },
    {
     "name": "stdout",
     "text": "Train Epoch: 12, elapsed time:28.83s, Avg train Loss: 1.4872292450255593\ntensor([3, 2, 3, 2, 2, 3, 3, 4, 2, 2, 2, 2, 2, 3, 2, 2, 3, 3, 3, 2, 2, 2, 2, 2,\n        2, 3, 2, 2, 3, 2, 3, 3, 2, 2, 2, 3, 2, 3, 3, 3, 3, 2, 2, 3, 2, 2, 2, 2,\n        2, 3, 3, 3, 4, 3, 3, 3, 3, 3, 3, 3, 3, 2, 3, 3, 2, 3, 3, 2, 2, 2, 3, 3,\n        2, 4, 3, 2, 2, 3, 2, 2, 3, 4, 3, 3, 3, 3, 3, 3, 3, 2, 3, 3, 4, 4, 3, 3,\n        3, 4, 4, 4, 2, 2, 2, 2, 2, 4, 3, 2, 2, 3, 2, 2, 3, 4, 3, 3, 2, 2, 3, 3,\n        3, 3, 2, 3, 3, 3, 3, 3], device='cuda:0')\nAvg test Loss: 1.5107568856832143, Avg Accuracy: 0.36352068185806274\n",
     "output_type": "stream"
    },
    {
     "name": "stderr",
     "text": "100%|██████████| 708/708 [00:28<00:00, 24.53it/s, Loss=1.485339]\n",
     "output_type": "stream"
    },
    {
     "name": "stdout",
     "text": "Train Epoch: 13, elapsed time:28.86s, Avg train Loss: 1.485339251278484\ntensor([3, 2, 3, 2, 2, 3, 3, 4, 3, 3, 2, 3, 2, 3, 2, 2, 3, 3, 2, 2, 2, 2, 2, 2,\n        2, 3, 2, 2, 3, 3, 4, 3, 2, 3, 3, 3, 3, 3, 3, 3, 4, 3, 3, 3, 2, 2, 2, 2,\n        2, 3, 3, 3, 4, 3, 3, 3, 3, 4, 3, 3, 3, 2, 3, 3, 2, 3, 3, 2, 2, 2, 3, 4,\n        3, 4, 2, 2, 2, 4, 2, 3, 3, 4, 3, 3, 3, 3, 3, 3, 3, 3, 4, 3, 4, 4, 3, 3,\n        3, 4, 4, 4, 2, 2, 2, 2, 2, 4, 2, 2, 2, 3, 2, 2, 4, 4, 3, 4, 2, 2, 4, 3,\n        3, 3, 2, 3, 3, 3, 3, 3], device='cuda:0')\nAvg test Loss: 1.5123884645668235, Avg Accuracy: 0.36277836561203003\n",
     "output_type": "stream"
    },
    {
     "name": "stderr",
     "text": "100%|██████████| 708/708 [00:28<00:00, 24.58it/s, Loss=1.483944]\n",
     "output_type": "stream"
    },
    {
     "name": "stdout",
     "text": "Train Epoch: 14, elapsed time:28.81s, Avg train Loss: 1.4839440013392498\ntensor([3, 2, 3, 2, 2, 3, 3, 4, 3, 3, 2, 3, 2, 3, 2, 2, 3, 3, 2, 2, 2, 2, 2, 2,\n        2, 3, 2, 2, 2, 3, 4, 3, 2, 3, 3, 3, 3, 3, 3, 3, 3, 2, 2, 3, 2, 2, 2, 2,\n        2, 3, 3, 3, 4, 3, 3, 3, 3, 3, 3, 3, 3, 2, 3, 3, 2, 3, 3, 2, 3, 2, 3, 4,\n        3, 4, 3, 2, 2, 4, 2, 3, 3, 4, 3, 3, 3, 3, 3, 3, 3, 3, 3, 3, 4, 4, 3, 3,\n        3, 4, 4, 4, 2, 2, 2, 2, 2, 4, 2, 2, 2, 3, 2, 2, 3, 4, 3, 4, 2, 2, 3, 3,\n        3, 3, 2, 3, 3, 3, 3, 3], device='cuda:0')\nAvg test Loss: 1.5115311951250643, Avg Accuracy: 0.3611876964569092\n",
     "output_type": "stream"
    },
    {
     "name": "stderr",
     "text": "100%|██████████| 708/708 [00:28<00:00, 24.56it/s, Loss=1.482522]\n",
     "output_type": "stream"
    },
    {
     "name": "stdout",
     "text": "Train Epoch: 15, elapsed time:28.83s, Avg train Loss: 1.4825219232483773\ntensor([3, 3, 3, 2, 2, 3, 3, 3, 3, 3, 2, 3, 2, 3, 2, 2, 3, 3, 3, 2, 2, 2, 2, 2,\n        2, 3, 2, 2, 2, 3, 3, 3, 2, 3, 2, 3, 3, 3, 3, 3, 3, 3, 3, 4, 2, 2, 2, 2,\n        2, 3, 3, 3, 4, 3, 3, 3, 3, 3, 3, 3, 3, 2, 2, 3, 2, 3, 3, 2, 2, 2, 3, 3,\n        3, 3, 3, 2, 2, 4, 2, 3, 3, 3, 3, 3, 3, 3, 3, 3, 3, 3, 4, 3, 4, 4, 3, 3,\n        3, 4, 4, 4, 2, 2, 2, 2, 2, 4, 2, 2, 2, 3, 2, 2, 3, 4, 4, 4, 3, 2, 4, 3,\n        3, 3, 2, 3, 3, 3, 3, 3], device='cuda:0')\nAvg test Loss: 1.5107176980456791, Avg Accuracy: 0.3611876964569092\n",
     "output_type": "stream"
    },
    {
     "name": "stderr",
     "text": "100%|██████████| 708/708 [00:28<00:00, 24.58it/s, Loss=1.480861]\n",
     "output_type": "stream"
    },
    {
     "name": "stdout",
     "text": "Train Epoch: 16, elapsed time:28.80s, Avg train Loss: 1.4808609300414048\ntensor([3, 2, 3, 2, 2, 3, 3, 4, 2, 2, 2, 2, 2, 3, 2, 2, 3, 3, 2, 2, 2, 2, 2, 2,\n        2, 3, 2, 2, 2, 3, 3, 3, 2, 2, 2, 3, 2, 3, 3, 3, 3, 2, 3, 4, 2, 2, 2, 2,\n        2, 3, 2, 3, 4, 3, 3, 3, 3, 4, 3, 3, 3, 2, 3, 3, 2, 3, 3, 2, 2, 2, 3, 3,\n        2, 4, 3, 2, 2, 4, 2, 2, 3, 4, 3, 3, 3, 3, 3, 4, 3, 3, 4, 3, 4, 4, 3, 3,\n        3, 4, 4, 4, 2, 2, 2, 2, 2, 4, 2, 2, 2, 3, 2, 2, 3, 4, 4, 4, 2, 2, 4, 3,\n        3, 3, 2, 3, 3, 3, 3, 3], device='cuda:0')\nAvg test Loss: 1.5147130666552364, Avg Accuracy: 0.3554612696170807\n",
     "output_type": "stream"
    },
    {
     "name": "stderr",
     "text": "100%|██████████| 708/708 [00:28<00:00, 24.58it/s, Loss=1.479255]\n",
     "output_type": "stream"
    },
    {
     "name": "stdout",
     "text": "Train Epoch: 17, elapsed time:28.81s, Avg train Loss: 1.4792553878436654\ntensor([3, 2, 3, 2, 2, 3, 3, 4, 3, 3, 2, 2, 2, 3, 2, 2, 3, 3, 2, 2, 2, 2, 2, 2,\n        2, 2, 3, 2, 2, 3, 4, 3, 2, 3, 3, 3, 3, 3, 3, 3, 3, 3, 3, 4, 2, 2, 2, 2,\n        2, 3, 2, 2, 4, 3, 2, 3, 2, 4, 3, 3, 3, 2, 2, 3, 2, 2, 3, 2, 2, 2, 3, 4,\n        3, 4, 3, 2, 2, 4, 2, 3, 3, 4, 3, 3, 3, 3, 3, 3, 3, 2, 4, 3, 4, 4, 3, 3,\n        3, 4, 4, 4, 2, 2, 2, 2, 2, 4, 2, 2, 2, 3, 2, 2, 4, 4, 4, 4, 2, 2, 4, 3,\n        3, 3, 2, 2, 3, 3, 3, 3], device='cuda:0')\nAvg test Loss: 1.5172318961169269, Avg Accuracy: 0.3556733727455139\n",
     "output_type": "stream"
    },
    {
     "name": "stderr",
     "text": "100%|██████████| 708/708 [00:28<00:00, 24.57it/s, Loss=1.478368]\n",
     "output_type": "stream"
    },
    {
     "name": "stdout",
     "text": "Train Epoch: 18, elapsed time:28.82s, Avg train Loss: 1.4783683355245214\ntensor([3, 2, 3, 2, 2, 3, 3, 4, 3, 3, 2, 2, 2, 3, 2, 2, 3, 3, 2, 2, 2, 2, 2, 2,\n        2, 3, 2, 2, 3, 3, 3, 3, 2, 3, 3, 3, 3, 3, 3, 3, 3, 3, 2, 4, 2, 2, 2, 2,\n        2, 3, 3, 3, 4, 3, 3, 3, 3, 3, 3, 3, 3, 2, 3, 3, 2, 3, 3, 2, 2, 2, 3, 3,\n        3, 3, 3, 2, 2, 4, 2, 3, 3, 4, 3, 3, 3, 3, 3, 3, 3, 3, 4, 3, 4, 4, 3, 3,\n        3, 4, 4, 4, 2, 2, 2, 2, 2, 4, 3, 2, 2, 3, 2, 2, 3, 4, 4, 3, 2, 2, 4, 3,\n        3, 3, 2, 3, 3, 3, 3, 3], device='cuda:0')\nAvg test Loss: 1.511913700683697, Avg Accuracy: 0.3644750714302063\n",
     "output_type": "stream"
    },
    {
     "name": "stderr",
     "text": "100%|██████████| 708/708 [00:28<00:00, 24.57it/s, Loss=1.476786]\n",
     "output_type": "stream"
    },
    {
     "name": "stdout",
     "text": "Train Epoch: 19, elapsed time:28.82s, Avg train Loss: 1.4767864873517031\ntensor([3, 2, 3, 2, 2, 3, 3, 4, 2, 3, 2, 2, 2, 3, 3, 2, 3, 3, 3, 2, 2, 2, 2, 2,\n        2, 3, 3, 2, 2, 3, 3, 3, 2, 3, 3, 3, 2, 3, 3, 3, 3, 3, 3, 4, 2, 2, 2, 2,\n        2, 3, 2, 2, 4, 3, 2, 3, 2, 3, 3, 3, 3, 2, 3, 3, 2, 3, 3, 2, 2, 2, 3, 3,\n        3, 4, 3, 2, 2, 4, 2, 3, 3, 3, 3, 3, 3, 2, 3, 3, 3, 3, 3, 3, 4, 4, 3, 3,\n        3, 4, 3, 4, 2, 2, 2, 2, 2, 4, 2, 2, 2, 3, 2, 2, 3, 4, 4, 3, 2, 2, 3, 3,\n        3, 3, 2, 3, 3, 3, 3, 3], device='cuda:0')\nAvg test Loss: 1.5139776903229791, Avg Accuracy: 0.356097549200058\n",
     "output_type": "stream"
    },
    {
     "name": "stderr",
     "text": "100%|██████████| 708/708 [00:28<00:00, 24.57it/s, Loss=1.475511]\n",
     "output_type": "stream"
    },
    {
     "name": "stdout",
     "text": "Train Epoch: 20, elapsed time:28.82s, Avg train Loss: 1.475511453751117\ntensor([3, 2, 3, 2, 2, 3, 3, 4, 3, 3, 2, 2, 2, 3, 3, 2, 3, 3, 3, 2, 2, 2, 2, 2,\n        2, 2, 3, 2, 3, 3, 3, 3, 2, 3, 3, 3, 3, 3, 3, 3, 3, 3, 3, 4, 2, 2, 2, 2,\n        2, 3, 3, 2, 4, 3, 2, 3, 3, 3, 3, 3, 3, 2, 3, 3, 2, 3, 3, 2, 2, 2, 3, 3,\n        3, 3, 3, 2, 2, 4, 2, 3, 3, 3, 3, 3, 3, 3, 3, 3, 3, 3, 4, 3, 3, 3, 3, 3,\n        3, 4, 4, 3, 2, 2, 2, 2, 2, 4, 3, 2, 2, 3, 2, 2, 3, 4, 4, 4, 3, 2, 4, 3,\n        3, 3, 2, 3, 3, 3, 3, 3], device='cuda:0')\nAvg test Loss: 1.5114982724189758, Avg Accuracy: 0.36479321122169495\n",
     "output_type": "stream"
    },
    {
     "name": "stderr",
     "text": "100%|██████████| 708/708 [00:28<00:00, 24.60it/s, Loss=1.474955]\n",
     "output_type": "stream"
    },
    {
     "name": "stdout",
     "text": "Train Epoch: 21, elapsed time:28.78s, Avg train Loss: 1.474954563177238\ntensor([3, 2, 3, 2, 2, 3, 3, 4, 3, 2, 2, 3, 2, 3, 3, 2, 3, 3, 3, 2, 2, 2, 2, 3,\n        2, 3, 3, 2, 3, 3, 3, 3, 2, 3, 3, 3, 3, 3, 3, 3, 3, 3, 3, 4, 2, 2, 2, 2,\n        2, 3, 3, 2, 4, 3, 2, 3, 3, 3, 3, 3, 3, 2, 3, 4, 2, 3, 3, 2, 3, 2, 3, 3,\n        3, 4, 3, 2, 2, 4, 2, 3, 3, 4, 3, 3, 3, 3, 3, 3, 3, 3, 4, 3, 4, 4, 3, 3,\n        3, 4, 4, 3, 2, 2, 2, 2, 2, 4, 3, 2, 2, 3, 2, 2, 3, 4, 4, 4, 3, 2, 4, 3,\n        3, 3, 2, 3, 3, 3, 3, 3], device='cuda:0')\nAvg test Loss: 1.5123889542914726, Avg Accuracy: 0.36670199036598206\n",
     "output_type": "stream"
    },
    {
     "name": "stderr",
     "text": "100%|██████████| 708/708 [00:28<00:00, 24.57it/s, Loss=1.473046]\n",
     "output_type": "stream"
    },
    {
     "name": "stdout",
     "text": "Train Epoch: 22, elapsed time:28.82s, Avg train Loss: 1.473046164054655\ntensor([3, 2, 3, 2, 2, 3, 3, 4, 3, 3, 2, 2, 2, 3, 3, 2, 3, 3, 3, 2, 2, 2, 2, 2,\n        2, 3, 3, 2, 2, 3, 4, 3, 2, 3, 3, 3, 3, 3, 3, 3, 3, 3, 3, 4, 2, 2, 2, 2,\n        2, 3, 3, 2, 4, 3, 2, 3, 3, 4, 3, 3, 3, 2, 2, 3, 2, 3, 3, 2, 2, 2, 3, 3,\n        3, 4, 3, 2, 2, 4, 2, 3, 3, 4, 3, 3, 3, 3, 3, 4, 3, 3, 4, 3, 4, 4, 3, 3,\n        3, 4, 4, 3, 2, 2, 2, 2, 2, 4, 3, 2, 2, 3, 2, 3, 4, 4, 4, 3, 3, 2, 4, 3,\n        3, 3, 2, 3, 3, 3, 3, 3], device='cuda:0')\nAvg test Loss: 1.5134671926498413, Avg Accuracy: 0.35959702730178833\n",
     "output_type": "stream"
    },
    {
     "name": "stderr",
     "text": "100%|██████████| 708/708 [00:28<00:00, 24.58it/s, Loss=1.471728]\n",
     "output_type": "stream"
    },
    {
     "name": "stdout",
     "text": "Train Epoch: 23, elapsed time:28.81s, Avg train Loss: 1.4717277665596225\ntensor([3, 3, 3, 2, 2, 3, 3, 4, 3, 3, 2, 2, 2, 3, 3, 2, 3, 3, 3, 2, 2, 2, 2, 2,\n        2, 3, 3, 2, 2, 3, 3, 3, 2, 3, 2, 3, 3, 3, 3, 3, 3, 3, 3, 4, 2, 2, 2, 2,\n        2, 3, 3, 2, 4, 3, 2, 3, 3, 4, 3, 3, 3, 2, 3, 3, 2, 3, 3, 2, 2, 2, 3, 3,\n        3, 3, 3, 2, 2, 4, 2, 3, 3, 4, 3, 3, 3, 3, 3, 3, 3, 2, 4, 3, 4, 4, 3, 3,\n        3, 4, 4, 3, 2, 2, 2, 2, 2, 4, 2, 2, 2, 3, 2, 2, 3, 3, 4, 3, 3, 2, 4, 3,\n        3, 3, 2, 3, 3, 3, 3, 3], device='cuda:0')\nAvg test Loss: 1.5139352292627901, Avg Accuracy: 0.363838791847229\n",
     "output_type": "stream"
    },
    {
     "name": "stderr",
     "text": "100%|██████████| 708/708 [00:28<00:00, 24.58it/s, Loss=1.471290]\n",
     "output_type": "stream"
    },
    {
     "name": "stdout",
     "text": "Train Epoch: 24, elapsed time:28.80s, Avg train Loss: 1.4712903102238972\ntensor([3, 2, 3, 2, 2, 3, 3, 4, 3, 2, 2, 3, 2, 3, 3, 2, 3, 3, 3, 2, 2, 2, 2, 2,\n        2, 3, 3, 2, 3, 3, 3, 3, 2, 3, 3, 3, 3, 3, 3, 3, 3, 2, 3, 4, 2, 2, 2, 2,\n        2, 3, 2, 2, 4, 3, 2, 3, 3, 4, 3, 3, 3, 3, 3, 4, 2, 3, 3, 3, 3, 2, 3, 3,\n        3, 3, 2, 2, 2, 3, 2, 3, 3, 4, 3, 3, 3, 3, 3, 3, 3, 3, 4, 3, 4, 4, 3, 3,\n        3, 4, 4, 4, 2, 2, 2, 2, 2, 4, 3, 2, 2, 3, 2, 2, 3, 4, 4, 3, 2, 2, 3, 3,\n        3, 3, 2, 3, 3, 3, 3, 3], device='cuda:0')\nAvg test Loss: 1.51320944122366, Avg Accuracy: 0.36277836561203003\n",
     "output_type": "stream"
    },
    {
     "name": "stderr",
     "text": "100%|██████████| 708/708 [00:28<00:00, 24.59it/s, Loss=1.470077]\n",
     "output_type": "stream"
    },
    {
     "name": "stdout",
     "text": "Train Epoch: 25, elapsed time:28.80s, Avg train Loss: 1.4700765956593098\ntensor([3, 2, 3, 2, 2, 3, 3, 4, 3, 3, 2, 3, 2, 3, 3, 2, 3, 3, 3, 2, 2, 2, 2, 2,\n        3, 3, 3, 2, 3, 3, 4, 3, 2, 3, 3, 3, 3, 3, 3, 3, 3, 3, 3, 4, 2, 2, 2, 2,\n        2, 3, 2, 2, 4, 3, 2, 3, 3, 4, 3, 3, 3, 2, 2, 4, 2, 3, 3, 2, 2, 2, 3, 3,\n        3, 3, 3, 2, 2, 4, 2, 3, 3, 4, 3, 3, 3, 3, 3, 4, 3, 3, 4, 3, 4, 4, 3, 3,\n        3, 4, 4, 4, 2, 2, 2, 2, 2, 4, 2, 2, 2, 3, 2, 2, 3, 4, 4, 4, 3, 2, 4, 3,\n        3, 3, 2, 3, 3, 3, 3, 3], device='cuda:0')\nAvg test Loss: 1.5152061919908266, Avg Accuracy: 0.3607635200023651\n",
     "output_type": "stream"
    },
    {
     "name": "stderr",
     "text": "100%|██████████| 708/708 [00:28<00:00, 24.62it/s, Loss=1.468801]\n",
     "output_type": "stream"
    },
    {
     "name": "stdout",
     "text": "Train Epoch: 26, elapsed time:28.76s, Avg train Loss: 1.4688005287431727\ntensor([3, 2, 3, 2, 2, 3, 3, 4, 3, 3, 2, 2, 2, 2, 3, 2, 3, 3, 2, 2, 2, 2, 2, 2,\n        3, 3, 2, 2, 3, 3, 4, 3, 2, 3, 3, 3, 3, 3, 3, 3, 3, 2, 2, 2, 2, 2, 2, 2,\n        2, 3, 2, 2, 4, 3, 2, 4, 3, 4, 3, 3, 3, 2, 2, 3, 2, 3, 3, 2, 2, 2, 3, 3,\n        3, 3, 2, 2, 2, 4, 2, 3, 3, 4, 3, 3, 3, 3, 3, 3, 3, 3, 4, 3, 3, 4, 3, 3,\n        3, 4, 4, 4, 2, 2, 2, 2, 2, 4, 2, 2, 2, 2, 2, 2, 3, 4, 4, 2, 3, 2, 4, 3,\n        3, 3, 2, 3, 3, 3, 3, 3], device='cuda:0')\nAvg test Loss: 1.5136883742100484, Avg Accuracy: 0.36532342433929443\n",
     "output_type": "stream"
    },
    {
     "name": "stderr",
     "text": "100%|██████████| 708/708 [00:28<00:00, 24.62it/s, Loss=1.467291]\n",
     "output_type": "stream"
    },
    {
     "name": "stdout",
     "text": "Train Epoch: 27, elapsed time:28.76s, Avg train Loss: 1.467290933522801\ntensor([3, 2, 3, 2, 2, 3, 3, 4, 2, 2, 2, 3, 2, 4, 3, 2, 3, 3, 3, 2, 2, 2, 2, 2,\n        2, 3, 3, 2, 2, 3, 4, 3, 2, 3, 2, 3, 2, 3, 3, 3, 4, 3, 3, 4, 2, 2, 2, 2,\n        2, 3, 2, 2, 4, 3, 2, 3, 3, 4, 3, 4, 3, 2, 2, 4, 2, 3, 3, 2, 2, 2, 3, 3,\n        3, 3, 2, 2, 2, 4, 2, 3, 3, 4, 3, 3, 3, 3, 3, 3, 3, 3, 4, 3, 4, 4, 3, 3,\n        3, 4, 4, 3, 2, 2, 2, 2, 2, 4, 2, 2, 2, 3, 2, 2, 3, 4, 4, 4, 3, 2, 4, 3,\n        3, 3, 2, 3, 3, 3, 3, 3], device='cuda:0')\nAvg test Loss: 1.515273648339349, Avg Accuracy: 0.35959702730178833\n",
     "output_type": "stream"
    },
    {
     "name": "stderr",
     "text": "100%|██████████| 708/708 [00:28<00:00, 24.61it/s, Loss=1.466240]\n",
     "output_type": "stream"
    },
    {
     "name": "stdout",
     "text": "Train Epoch: 28, elapsed time:28.77s, Avg train Loss: 1.466240193547502\ntensor([3, 3, 3, 2, 2, 3, 3, 4, 3, 3, 2, 3, 2, 3, 3, 2, 3, 3, 3, 2, 2, 2, 2, 2,\n        3, 3, 3, 2, 2, 3, 4, 3, 2, 3, 3, 3, 3, 3, 3, 3, 4, 2, 3, 4, 2, 2, 2, 2,\n        2, 3, 3, 2, 4, 3, 2, 4, 3, 4, 3, 3, 3, 2, 2, 4, 2, 2, 3, 2, 2, 2, 3, 4,\n        3, 4, 2, 2, 2, 4, 2, 3, 3, 4, 3, 3, 3, 3, 3, 4, 3, 3, 4, 3, 4, 4, 3, 3,\n        3, 4, 4, 3, 2, 2, 2, 2, 2, 4, 2, 2, 2, 3, 2, 2, 4, 4, 4, 4, 3, 2, 4, 3,\n        3, 3, 2, 3, 3, 3, 3, 3], device='cuda:0')\nAvg test Loss: 1.5158334100568616, Avg Accuracy: 0.3633085787296295\n",
     "output_type": "stream"
    },
    {
     "name": "stderr",
     "text": "100%|██████████| 708/708 [00:28<00:00, 24.62it/s, Loss=1.465449]\n",
     "output_type": "stream"
    },
    {
     "name": "stdout",
     "text": "Train Epoch: 29, elapsed time:28.76s, Avg train Loss: 1.465448883967211\ntensor([3, 3, 3, 3, 2, 3, 3, 4, 3, 3, 2, 3, 2, 3, 3, 2, 3, 3, 3, 2, 2, 2, 2, 2,\n        3, 3, 3, 2, 3, 3, 3, 3, 2, 3, 3, 3, 3, 3, 3, 3, 3, 2, 3, 4, 2, 2, 2, 2,\n        2, 3, 3, 2, 4, 3, 2, 4, 3, 4, 3, 3, 3, 3, 4, 4, 2, 3, 4, 3, 3, 2, 3, 3,\n        3, 3, 3, 2, 2, 3, 2, 3, 3, 4, 3, 3, 3, 3, 3, 3, 3, 3, 4, 3, 4, 4, 3, 3,\n        3, 4, 3, 3, 2, 2, 3, 2, 2, 4, 3, 2, 3, 3, 3, 2, 3, 4, 4, 2, 3, 2, 3, 3,\n        3, 3, 2, 3, 3, 3, 3, 3], device='cuda:0')\nAvg test Loss: 1.5136589150171023, Avg Accuracy: 0.3632025420665741\n",
     "output_type": "stream"
    },
    {
     "name": "stderr",
     "text": "100%|██████████| 708/708 [00:28<00:00, 24.59it/s, Loss=1.464661]\n",
     "output_type": "stream"
    },
    {
     "name": "stdout",
     "text": "Train Epoch: 30, elapsed time:28.80s, Avg train Loss: 1.4646610157974695\ntensor([3, 2, 3, 2, 2, 3, 3, 4, 2, 3, 2, 2, 2, 2, 3, 2, 3, 3, 3, 2, 2, 2, 2, 2,\n        2, 3, 3, 2, 2, 3, 3, 3, 2, 3, 2, 3, 2, 3, 3, 3, 3, 3, 3, 2, 2, 2, 2, 2,\n        2, 3, 2, 2, 4, 3, 2, 4, 3, 4, 3, 3, 3, 2, 2, 4, 2, 3, 3, 2, 2, 2, 3, 3,\n        3, 3, 3, 2, 2, 3, 2, 3, 3, 4, 3, 3, 3, 3, 3, 3, 3, 3, 4, 3, 4, 4, 3, 3,\n        3, 4, 4, 3, 2, 2, 2, 2, 2, 4, 2, 2, 2, 2, 2, 2, 3, 4, 3, 2, 2, 2, 4, 3,\n        3, 3, 2, 3, 3, 3, 3, 3], device='cuda:0')\nAvg test Loss: 1.5153330306749087, Avg Accuracy: 0.3600212037563324\n",
     "output_type": "stream"
    },
    {
     "name": "stderr",
     "text": "100%|██████████| 708/708 [00:28<00:00, 24.58it/s, Loss=1.463485]\n",
     "output_type": "stream"
    },
    {
     "name": "stdout",
     "text": "Train Epoch: 31, elapsed time:28.80s, Avg train Loss: 1.4634852183740692\ntensor([3, 3, 3, 2, 2, 3, 3, 4, 2, 3, 2, 2, 2, 4, 3, 2, 3, 3, 3, 2, 2, 2, 2, 2,\n        2, 2, 3, 2, 2, 3, 4, 3, 2, 3, 2, 3, 2, 2, 3, 3, 3, 3, 3, 4, 2, 2, 2, 2,\n        2, 3, 2, 2, 4, 3, 2, 4, 3, 4, 3, 3, 3, 2, 2, 4, 2, 2, 4, 2, 2, 2, 3, 3,\n        3, 3, 2, 2, 2, 4, 2, 3, 3, 4, 3, 3, 3, 2, 3, 4, 3, 2, 4, 3, 4, 4, 3, 3,\n        3, 4, 4, 3, 2, 2, 2, 2, 2, 4, 2, 2, 2, 4, 2, 2, 4, 4, 4, 4, 2, 2, 4, 3,\n        3, 3, 2, 3, 3, 3, 3, 3], device='cuda:0')\nAvg test Loss: 1.518734308513435, Avg Accuracy: 0.353658527135849\n",
     "output_type": "stream"
    },
    {
     "name": "stderr",
     "text": "100%|██████████| 708/708 [00:28<00:00, 24.63it/s, Loss=1.462747]\n",
     "output_type": "stream"
    },
    {
     "name": "stdout",
     "text": "Train Epoch: 32, elapsed time:28.74s, Avg train Loss: 1.46274748259345\ntensor([3, 3, 3, 2, 2, 3, 3, 4, 3, 3, 2, 2, 2, 3, 3, 2, 3, 3, 3, 2, 2, 2, 2, 2,\n        2, 3, 3, 2, 2, 3, 3, 3, 2, 3, 3, 3, 3, 3, 3, 3, 3, 3, 3, 4, 2, 2, 2, 2,\n        2, 3, 3, 2, 4, 3, 2, 4, 3, 4, 3, 3, 3, 2, 2, 4, 2, 3, 3, 2, 3, 2, 3, 3,\n        3, 3, 3, 2, 2, 3, 2, 3, 3, 4, 3, 3, 3, 3, 3, 3, 3, 3, 4, 3, 4, 4, 3, 3,\n        3, 4, 4, 3, 2, 2, 2, 2, 2, 4, 2, 2, 2, 3, 2, 2, 3, 4, 3, 2, 3, 2, 3, 3,\n        3, 3, 2, 3, 3, 3, 3, 3], device='cuda:0')\nAvg test Loss: 1.5152579755396456, Avg Accuracy: 0.3618239462375641\n",
     "output_type": "stream"
    },
    {
     "name": "stderr",
     "text": "100%|██████████| 708/708 [00:28<00:00, 24.63it/s, Loss=1.462132]\n",
     "output_type": "stream"
    },
    {
     "name": "stdout",
     "text": "Train Epoch: 33, elapsed time:28.75s, Avg train Loss: 1.462131995602516\ntensor([3, 2, 3, 2, 2, 3, 3, 4, 2, 2, 2, 2, 2, 4, 3, 2, 3, 3, 3, 2, 2, 2, 2, 2,\n        2, 3, 3, 2, 2, 3, 3, 3, 2, 3, 2, 3, 2, 3, 3, 3, 4, 2, 3, 4, 2, 2, 2, 2,\n        2, 3, 3, 2, 4, 3, 2, 4, 3, 4, 3, 3, 3, 2, 2, 4, 2, 3, 3, 2, 2, 2, 3, 3,\n        2, 3, 2, 2, 2, 4, 2, 2, 3, 4, 3, 3, 3, 3, 3, 3, 3, 3, 4, 3, 4, 4, 3, 3,\n        3, 3, 4, 3, 2, 2, 2, 2, 2, 4, 2, 2, 2, 4, 2, 2, 3, 4, 4, 3, 2, 2, 4, 3,\n        3, 3, 2, 3, 3, 3, 3, 3], device='cuda:0')\nAvg test Loss: 1.5170081789429124, Avg Accuracy: 0.35662776231765747\n",
     "output_type": "stream"
    },
    {
     "name": "stderr",
     "text": "100%|██████████| 708/708 [00:28<00:00, 24.60it/s, Loss=1.460674]\n",
     "output_type": "stream"
    },
    {
     "name": "stdout",
     "text": "Train Epoch: 34, elapsed time:28.78s, Avg train Loss: 1.460674015647274\ntensor([3, 2, 3, 2, 2, 3, 3, 4, 2, 2, 2, 3, 2, 4, 3, 2, 3, 3, 3, 2, 2, 2, 2, 2,\n        2, 3, 3, 2, 2, 3, 3, 3, 2, 3, 2, 3, 2, 3, 3, 3, 3, 2, 3, 4, 2, 2, 2, 2,\n        2, 3, 3, 2, 4, 3, 2, 4, 3, 4, 3, 3, 3, 3, 4, 4, 2, 3, 4, 3, 3, 2, 3, 3,\n        3, 3, 3, 2, 2, 4, 2, 3, 3, 4, 3, 3, 3, 3, 3, 3, 3, 2, 4, 3, 4, 4, 3, 3,\n        3, 4, 4, 3, 2, 2, 2, 2, 2, 4, 2, 2, 2, 3, 2, 2, 3, 4, 4, 2, 3, 2, 4, 3,\n        3, 3, 2, 3, 3, 3, 3, 3], device='cuda:0')\nAvg test Loss: 1.5164871264148403, Avg Accuracy: 0.3615058362483978\n",
     "output_type": "stream"
    },
    {
     "name": "stderr",
     "text": "100%|██████████| 708/708 [00:28<00:00, 24.58it/s, Loss=1.460413]\n",
     "output_type": "stream"
    },
    {
     "name": "stdout",
     "text": "Train Epoch: 35, elapsed time:28.81s, Avg train Loss: 1.4604131574347867\ntensor([3, 3, 3, 2, 2, 3, 3, 4, 2, 3, 2, 2, 2, 4, 3, 2, 3, 3, 2, 2, 2, 2, 2, 2,\n        3, 3, 3, 2, 2, 3, 3, 3, 2, 3, 2, 3, 2, 3, 3, 3, 3, 3, 3, 4, 2, 2, 2, 2,\n        2, 3, 3, 2, 4, 3, 2, 4, 3, 4, 3, 3, 3, 2, 4, 4, 2, 3, 4, 2, 2, 2, 3, 3,\n        3, 4, 3, 2, 2, 4, 2, 3, 3, 4, 3, 3, 3, 3, 3, 3, 3, 3, 4, 3, 3, 3, 3, 3,\n        3, 3, 4, 3, 2, 2, 2, 2, 2, 4, 2, 2, 2, 4, 2, 2, 3, 4, 4, 2, 3, 2, 4, 3,\n        3, 3, 2, 3, 3, 3, 3, 3], device='cuda:0')\nAvg test Loss: 1.517524326169813, Avg Accuracy: 0.3611876964569092\n",
     "output_type": "stream"
    },
    {
     "name": "stderr",
     "text": "100%|██████████| 708/708 [00:28<00:00, 24.62it/s, Loss=1.459146]\n",
     "output_type": "stream"
    },
    {
     "name": "stdout",
     "text": "Train Epoch: 36, elapsed time:28.76s, Avg train Loss: 1.4591464029867096\ntensor([3, 3, 3, 2, 2, 3, 3, 4, 3, 3, 2, 3, 2, 3, 3, 2, 3, 3, 2, 2, 2, 2, 2, 2,\n        2, 3, 3, 2, 2, 3, 3, 3, 2, 3, 2, 3, 3, 3, 3, 3, 3, 3, 3, 4, 2, 2, 2, 2,\n        2, 3, 3, 2, 4, 3, 2, 4, 3, 4, 3, 3, 3, 2, 2, 4, 2, 2, 3, 2, 2, 2, 3, 3,\n        3, 4, 3, 2, 2, 4, 2, 3, 3, 4, 3, 3, 3, 3, 3, 3, 3, 3, 4, 3, 4, 4, 3, 3,\n        3, 4, 4, 3, 2, 2, 2, 2, 2, 4, 2, 2, 2, 3, 3, 2, 3, 4, 3, 2, 3, 2, 4, 3,\n        3, 3, 2, 3, 3, 3, 3, 3], device='cuda:0')\nAvg test Loss: 1.5157048009537362, Avg Accuracy: 0.3593849241733551\n",
     "output_type": "stream"
    },
    {
     "name": "stderr",
     "text": "100%|██████████| 708/708 [00:28<00:00, 24.60it/s, Loss=1.458684]\n",
     "output_type": "stream"
    },
    {
     "name": "stdout",
     "text": "Train Epoch: 37, elapsed time:28.78s, Avg train Loss: 1.4586843184832126\ntensor([3, 3, 3, 2, 2, 3, 3, 4, 2, 3, 2, 3, 2, 3, 3, 2, 3, 3, 3, 2, 2, 2, 2, 2,\n        3, 3, 3, 2, 2, 3, 3, 3, 2, 3, 2, 3, 2, 3, 3, 3, 3, 3, 2, 4, 2, 2, 2, 2,\n        2, 3, 2, 2, 4, 3, 2, 4, 3, 4, 3, 3, 3, 3, 4, 4, 2, 3, 4, 3, 3, 2, 3, 3,\n        3, 3, 3, 2, 2, 3, 2, 3, 3, 4, 3, 3, 3, 3, 3, 3, 3, 3, 4, 3, 4, 4, 3, 3,\n        3, 4, 4, 3, 2, 2, 2, 2, 2, 4, 2, 2, 2, 3, 2, 2, 3, 4, 3, 2, 3, 2, 4, 3,\n        3, 3, 2, 3, 3, 3, 3, 3], device='cuda:0')\nAvg test Loss: 1.5157281031479706, Avg Accuracy: 0.3633085787296295\n",
     "output_type": "stream"
    },
    {
     "name": "stderr",
     "text": "100%|██████████| 708/708 [00:28<00:00, 24.55it/s, Loss=1.457768]\n",
     "output_type": "stream"
    },
    {
     "name": "stdout",
     "text": "Train Epoch: 38, elapsed time:28.84s, Avg train Loss: 1.457768476615518\ntensor([3, 3, 3, 2, 2, 3, 3, 4, 2, 3, 3, 3, 3, 4, 3, 3, 3, 3, 3, 2, 2, 2, 2, 2,\n        3, 3, 3, 2, 3, 3, 3, 3, 2, 3, 3, 3, 2, 3, 3, 3, 3, 3, 3, 4, 2, 2, 3, 2,\n        2, 3, 3, 2, 4, 3, 2, 4, 3, 4, 3, 3, 3, 2, 4, 4, 2, 3, 3, 2, 3, 2, 3, 3,\n        3, 3, 3, 2, 2, 3, 2, 3, 3, 3, 3, 3, 3, 3, 3, 3, 3, 3, 4, 3, 4, 4, 3, 3,\n        3, 3, 4, 3, 2, 2, 2, 2, 2, 4, 3, 2, 2, 3, 2, 3, 3, 4, 4, 2, 3, 2, 4, 3,\n        3, 3, 2, 3, 3, 3, 3, 3], device='cuda:0')\nAvg test Loss: 1.5165064850369014, Avg Accuracy: 0.363838791847229\n",
     "output_type": "stream"
    },
    {
     "name": "stderr",
     "text": "100%|██████████| 708/708 [00:28<00:00, 24.59it/s, Loss=1.456863]\n",
     "output_type": "stream"
    },
    {
     "name": "stdout",
     "text": "Train Epoch: 39, elapsed time:28.79s, Avg train Loss: 1.4568627666955614\ntensor([3, 3, 3, 2, 2, 3, 3, 4, 2, 2, 2, 3, 2, 3, 3, 2, 3, 3, 3, 2, 2, 2, 2, 2,\n        2, 3, 3, 2, 2, 3, 3, 3, 2, 3, 2, 3, 2, 3, 3, 3, 3, 2, 3, 4, 2, 2, 2, 2,\n        2, 3, 3, 2, 4, 3, 2, 4, 3, 4, 3, 3, 3, 2, 4, 4, 2, 3, 4, 2, 3, 2, 3, 3,\n        2, 4, 2, 2, 2, 3, 2, 2, 3, 4, 3, 3, 3, 3, 3, 3, 3, 3, 4, 3, 4, 4, 3, 3,\n        3, 4, 4, 3, 2, 2, 2, 2, 2, 4, 2, 2, 2, 4, 2, 2, 3, 4, 3, 2, 2, 2, 4, 3,\n        3, 3, 2, 3, 3, 3, 3, 3], device='cuda:0')\nAvg test Loss: 1.5184849355671857, Avg Accuracy: 0.3556733727455139\n",
     "output_type": "stream"
    }
   ]
  },
  {
   "cell_type": "code",
   "source": [],
   "metadata": {},
   "execution_count": null,
   "outputs": []
  }
 ]
}
